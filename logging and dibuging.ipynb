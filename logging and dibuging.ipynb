{
 "cells": [
  {
   "attachments": {},
   "cell_type": "markdown",
   "metadata": {},
   "source": [
    "# Logging\n",
    "\n",
    "There are 5 types of log :\n",
    "- Debug\n",
    "- Info\n",
    "- Warning\n",
    "- Error\n",
    "- Critical"
   ]
  },
  {
   "cell_type": "code",
   "execution_count": 1,
   "metadata": {},
   "outputs": [],
   "source": [
    "import logging as lg\n",
    "import os"
   ]
  },
  {
   "cell_type": "code",
   "execution_count": 2,
   "metadata": {},
   "outputs": [],
   "source": [
    "lg.basicConfig(filename= 'E:\\\\Neoron\\\\Programming Practice\\\\logging\\\\text.log')"
   ]
  },
  {
   "cell_type": "code",
   "execution_count": 7,
   "metadata": {},
   "outputs": [],
   "source": [
    "lg.info('This is a info message')"
   ]
  },
  {
   "cell_type": "code",
   "execution_count": 8,
   "metadata": {},
   "outputs": [],
   "source": [
    "lg.warning('This is a warning message')"
   ]
  },
  {
   "cell_type": "code",
   "execution_count": 9,
   "metadata": {},
   "outputs": [],
   "source": [
    "lg.error('This is a error message')"
   ]
  },
  {
   "cell_type": "code",
   "execution_count": 3,
   "metadata": {},
   "outputs": [],
   "source": [
    "def nasir(a,b):\n",
    "    try:\n",
    "        lg.info(str(a)+'/'+str(b))\n",
    "        return a/b\n",
    "    except Exception as e:\n",
    "        lg.exception(str(e))"
   ]
  },
  {
   "cell_type": "code",
   "execution_count": 4,
   "metadata": {},
   "outputs": [],
   "source": [
    "nasir(5,0)"
   ]
  },
  {
   "cell_type": "code",
   "execution_count": 13,
   "metadata": {},
   "outputs": [],
   "source": [
    "import logging as lg\n",
    "lg.basicConfig(filename= 'E:\\\\Neoron\\\\Programming Practice\\\\logging\\\\text.log')\n",
    "def calculate(a,b):\n",
    "    lg.info('start the function')\n",
    "    n = a/b\n",
    "    return n"
   ]
  },
  {
   "cell_type": "code",
   "execution_count": 7,
   "metadata": {},
   "outputs": [
    {
     "ename": "ZeroDivisionError",
     "evalue": "division by zero",
     "output_type": "error",
     "traceback": [
      "\u001b[1;31m---------------------------------------------------------------------------\u001b[0m",
      "\u001b[1;31mZeroDivisionError\u001b[0m                         Traceback (most recent call last)",
      "\u001b[1;32me:\\Neoron\\Programming Practice\\logging and dibuging.ipynb Cell 10\u001b[0m in \u001b[0;36m<cell line: 1>\u001b[1;34m()\u001b[0m\n\u001b[1;32m----> <a href='vscode-notebook-cell:/e%3A/Neoron/Programming%20Practice/logging%20and%20dibuging.ipynb#X12sZmlsZQ%3D%3D?line=0'>1</a>\u001b[0m calculate(\u001b[39m5\u001b[39;49m,\u001b[39m0\u001b[39;49m)\n",
      "\u001b[1;32me:\\Neoron\\Programming Practice\\logging and dibuging.ipynb Cell 10\u001b[0m in \u001b[0;36mcalculate\u001b[1;34m(a, b)\u001b[0m\n\u001b[0;32m      <a href='vscode-notebook-cell:/e%3A/Neoron/Programming%20Practice/logging%20and%20dibuging.ipynb#X12sZmlsZQ%3D%3D?line=2'>3</a>\u001b[0m \u001b[39mdef\u001b[39;00m \u001b[39mcalculate\u001b[39m(a,b):\n\u001b[0;32m      <a href='vscode-notebook-cell:/e%3A/Neoron/Programming%20Practice/logging%20and%20dibuging.ipynb#X12sZmlsZQ%3D%3D?line=3'>4</a>\u001b[0m     lg\u001b[39m.\u001b[39minfo(\u001b[39m'\u001b[39m\u001b[39mstart the function\u001b[39m\u001b[39m'\u001b[39m)\n\u001b[1;32m----> <a href='vscode-notebook-cell:/e%3A/Neoron/Programming%20Practice/logging%20and%20dibuging.ipynb#X12sZmlsZQ%3D%3D?line=4'>5</a>\u001b[0m     n \u001b[39m=\u001b[39m a\u001b[39m/\u001b[39;49mb\n\u001b[0;32m      <a href='vscode-notebook-cell:/e%3A/Neoron/Programming%20Practice/logging%20and%20dibuging.ipynb#X12sZmlsZQ%3D%3D?line=5'>6</a>\u001b[0m     \u001b[39mreturn\u001b[39;00m n\n",
      "\u001b[1;31mZeroDivisionError\u001b[0m: division by zero"
     ]
    }
   ],
   "source": [
    "calculate(5,0)"
   ]
  },
  {
   "cell_type": "code",
   "execution_count": 8,
   "metadata": {},
   "outputs": [],
   "source": [
    "# logging shutdown by using logging.shutdown()\n",
    "lg.shutdown()"
   ]
  },
  {
   "attachments": {},
   "cell_type": "markdown",
   "metadata": {},
   "source": [
    "## Assignment\n",
    "- Create a logger in your code\n",
    "- Create one function which can place any number of input as an argument and number of input as an argument and it will be able to return sum of it \n",
    "-  capture user input in log\n",
    "- get user instruction in log file\n",
    "- Read a log file from python code and show all the logging colsole in python code"
   ]
  },
  {
   "cell_type": "code",
   "execution_count": 15,
   "metadata": {},
   "outputs": [
    {
     "name": "stdout",
     "output_type": "stream",
     "text": [
      "2023-02-16 02:24:55,157:INFO:start the function\n",
      "\n",
      "2023-02-16 02:24:55,160:INFO: values which are passed are (1, 2, 3, 4, 5, 6, 7, 8, 9, 10)\n",
      "\n",
      "2023-02-16 02:24:55,160:INFO:sum of the number is 55\n",
      "\n",
      "2023-02-16 02:24:55,161:INFO:end the function\n",
      "\n"
     ]
    }
   ],
   "source": [
    "\n",
    "\n",
    "f = open('E:\\\\Neoron\\\\Programming Practice\\\\logging\\\\text1.log','w')\n",
    "\n",
    "import logging as lg\n",
    "lg.basicConfig(filename= 'E:\\\\Neoron\\\\Programming Practice\\\\logging\\\\text1.log',level=lg.INFO,format='%(asctime)s:%(levelname)s:%(message)s')\n",
    "\n",
    "def cal (*args):\n",
    "    a = sum(args)\n",
    "    lg.info('start the function')\n",
    "    lg.info(' values which are passed are '+str(args))\n",
    "    lg.info('sum of the number is '+str(a))\n",
    "    lg.info('end the function')\n",
    "    return a\n",
    "cal(1,2,3,4,5,6,7,8,9,10)\n",
    "\n",
    "\n",
    "\n",
    "f = open('E:\\\\Neoron\\\\Programming Practice\\\\logging\\\\text1.log','r+')\n",
    "for i in f:\n",
    "    print(i)"
   ]
  },
  {
   "attachments": {},
   "cell_type": "markdown",
   "metadata": {},
   "source": [
    "### Print log file in the console using logging module"
   ]
  },
  {
   "cell_type": "code",
   "execution_count": 1,
   "metadata": {},
   "outputs": [
    {
     "name": "stderr",
     "output_type": "stream",
     "text": [
      "Nasir:INFO:this is an info massage from logger one\n"
     ]
    }
   ],
   "source": [
    "f = open('E:\\\\Neoron\\\\Programming Practice\\\\logging\\\\text4.log','w')\n",
    "import logging as lg\n",
    "lg.basicConfig(filename= 'E:\\\\Neoron\\\\Programming Practice\\\\logging\\\\text4.log',\n",
    "               level=lg.INFO,format='%(name)s:%(levelname)s:%(message)s',filemode='r+')\n",
    "console_log = lg.StreamHandler()\n",
    "console_log.setLevel(lg.INFO)\n",
    "format =  lg.Formatter('%(name)s:%(levelname)s:%(message)s')\n",
    "console_log.setFormatter(format)\n",
    "lg.getLogger('').addHandler(console_log)\n",
    "logger1 = lg.getLogger('Nasir')\n",
    "logger1.info(\"this is an info massage from logger one\")\n",
    "\n"
   ]
  },
  {
   "attachments": {},
   "cell_type": "markdown",
   "metadata": {},
   "source": [
    "# logging youtube \n",
    "\n",
    "- Debug = Detailed information, typically of interest only when diagnosing problems.\n",
    "- Info = Confirmation that things are working as expected.\n",
    "- Warning = An indication that something unexpected happened, or indicative of some problem in the near future (e.g. ‘disk space low’). The software is still working as expected.\n",
    "- Error = Due to a more serious problem, the software has not been able to perform some function.\n",
    "- Critical = A serious error, indicating that the program itself may be unable to continue running.\n",
    "- loging attribute cab be found by this [website]() "
   ]
  },
  {
   "cell_type": "code",
   "execution_count": null,
   "metadata": {},
   "outputs": [],
   "source": []
  },
  {
   "attachments": {},
   "cell_type": "markdown",
   "metadata": {},
   "source": [
    "## debugging"
   ]
  },
  {
   "cell_type": "code",
   "execution_count": 1,
   "metadata": {},
   "outputs": [],
   "source": [
    "import ipdb"
   ]
  },
  {
   "cell_type": "code",
   "execution_count": 7,
   "metadata": {},
   "outputs": [],
   "source": [
    "def testdebug():\n",
    "    ipdb.set_trace()\n",
    "    l = []\n",
    "    for i in range(10):\n",
    "        l.append(l)\n",
    "        print('appending data is :' + str(i))\n",
    "    return l"
   ]
  },
  {
   "cell_type": "code",
   "execution_count": 8,
   "metadata": {},
   "outputs": [
    {
     "name": "stdout",
     "output_type": "stream",
     "text": [
      "> \u001b[1;32mc:\\users\\nasir\\appdata\\local\\temp\\ipykernel_9636\\1629046850.py\u001b[0m(3)\u001b[0;36mtestdebug\u001b[1;34m()\u001b[0m\n",
      "\n"
     ]
    }
   ],
   "source": [
    "testdebug()"
   ]
  },
  {
   "cell_type": "code",
   "execution_count": null,
   "metadata": {},
   "outputs": [],
   "source": [
    "l = []\n",
    "def add(a,b):\n",
    "    l.append(a)\n",
    "    l.append(b)\n",
    "    return i\n",
    "add(1,2)"
   ]
  }
 ],
 "metadata": {
  "kernelspec": {
   "display_name": "Python 3",
   "language": "python",
   "name": "python3"
  },
  "language_info": {
   "codemirror_mode": {
    "name": "ipython",
    "version": 3
   },
   "file_extension": ".py",
   "mimetype": "text/x-python",
   "name": "python",
   "nbconvert_exporter": "python",
   "pygments_lexer": "ipython3",
   "version": "3.10.5"
  },
  "orig_nbformat": 4,
  "vscode": {
   "interpreter": {
    "hash": "0688fda938737e2d5a0e5dcab181b8ad9bfe817b9af13ca473832c5ae105f5f8"
   }
  }
 },
 "nbformat": 4,
 "nbformat_minor": 2
}
